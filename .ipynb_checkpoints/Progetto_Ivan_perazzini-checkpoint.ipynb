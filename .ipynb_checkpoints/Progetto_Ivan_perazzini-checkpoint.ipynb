{
 "cells": [
  {
   "cell_type": "code",
   "execution_count": 1,
   "metadata": {},
   "outputs": [],
   "source": [
    "import numpy as np\n",
    "import pandas as pd\n",
    "import matplotlib.pyplot as plt\n",
    "import nltk\n",
    "import pickle\n",
    "import random\n",
    "from collections import defaultdict\n",
    "from sklearn.model_selection import train_test_split\n",
    "from sklearn.pipeline import Pipeline\n",
    "from sklearn.preprocessing import StandardScaler\n",
    "from sklearn.linear_model import LogisticRegression, Perceptron\n",
    "from sklearn.feature_extraction.text import TfidfVectorizer, CountVectorizer\n",
    "from sklearn.model_selection import GridSearchCV\n",
    "from sklearn.metrics import confusion_matrix\n",
    "from sklearn.metrics import precision_score, recall_score, f1_score\n",
    "from sklearn.svm import SVC\n",
    "\n",
    "%matplotlib inline\n",
    "\n",
    "DATASET1_NAME = \"spotify_songs.csv\"\n",
    "DATASET2_NAME = \"lyrics-data.csv\"\n",
    "DATASET3_NAME = \"artists-data.csv\""
   ]
  },
  {
   "cell_type": "code",
   "execution_count": 2,
   "metadata": {},
   "outputs": [],
   "source": [
    "#dataset master repo: https://github.com/ashjames/Pegi-dataset\n",
    "# NOTA: il titolo nominato \"Moss\" aveva una data malformata -0018 al posto di 2018- \n",
    "# è stato modificato manualmente sul dataset essendo un caso singolo\n",
    "import os.path\n",
    "if (not os.path.exists(DATASET1_NAME) or not os.path.exists(DATASET2_NAME) or not os.path.exists(DATASET3_NAME)):\n",
    "    raise FileNotFoundError(\"ERROR: One or more datasets missing!\")"
   ]
  },
  {
   "cell_type": "code",
   "execution_count": 3,
   "metadata": {},
   "outputs": [],
   "source": [
    "#pd.set_option('display.max_columns', 500)\n",
    "df_spot = pd.read_csv(\"spotify_songs.csv\")\n",
    "df_2 = pd.merge(pd.read_csv(DATASET2_NAME), pd.read_csv(DATASET3_NAME), left_on=\"ALink\", right_on=\"Link\")"
   ]
  },
  {
   "cell_type": "code",
   "execution_count": 4,
   "metadata": {
    "scrolled": false
   },
   "outputs": [
    {
     "data": {
      "text/html": [
       "<div>\n",
       "<style scoped>\n",
       "    .dataframe tbody tr th:only-of-type {\n",
       "        vertical-align: middle;\n",
       "    }\n",
       "\n",
       "    .dataframe tbody tr th {\n",
       "        vertical-align: top;\n",
       "    }\n",
       "\n",
       "    .dataframe thead th {\n",
       "        text-align: right;\n",
       "    }\n",
       "</style>\n",
       "<table border=\"1\" class=\"dataframe\">\n",
       "  <thead>\n",
       "    <tr style=\"text-align: right;\">\n",
       "      <th></th>\n",
       "      <th>track_id</th>\n",
       "      <th>track_name</th>\n",
       "      <th>track_artist</th>\n",
       "      <th>lyrics</th>\n",
       "      <th>track_popularity</th>\n",
       "      <th>track_album_id</th>\n",
       "      <th>track_album_name</th>\n",
       "      <th>track_album_release_date</th>\n",
       "      <th>playlist_name</th>\n",
       "      <th>playlist_id</th>\n",
       "      <th>...</th>\n",
       "      <th>loudness</th>\n",
       "      <th>mode</th>\n",
       "      <th>speechiness</th>\n",
       "      <th>acousticness</th>\n",
       "      <th>instrumentalness</th>\n",
       "      <th>liveness</th>\n",
       "      <th>valence</th>\n",
       "      <th>tempo</th>\n",
       "      <th>duration_ms</th>\n",
       "      <th>language</th>\n",
       "    </tr>\n",
       "  </thead>\n",
       "  <tbody>\n",
       "    <tr>\n",
       "      <th>0</th>\n",
       "      <td>0017A6SJgTbfQVU2EtsPNo</td>\n",
       "      <td>Pangarap</td>\n",
       "      <td>Barbie's Cradle</td>\n",
       "      <td>Minsan pa Nang ako'y napalingon Hindi ko alam ...</td>\n",
       "      <td>41</td>\n",
       "      <td>1srJQ0njEQgd8w4XSqI4JQ</td>\n",
       "      <td>Trip</td>\n",
       "      <td>2001-01-01</td>\n",
       "      <td>Pinoy Classic Rock</td>\n",
       "      <td>37i9dQZF1DWYDQ8wBxd7xt</td>\n",
       "      <td>...</td>\n",
       "      <td>-10.068</td>\n",
       "      <td>1</td>\n",
       "      <td>0.0236</td>\n",
       "      <td>0.27900</td>\n",
       "      <td>0.01170</td>\n",
       "      <td>0.0887</td>\n",
       "      <td>0.566</td>\n",
       "      <td>97.091</td>\n",
       "      <td>235440</td>\n",
       "      <td>tl</td>\n",
       "    </tr>\n",
       "    <tr>\n",
       "      <th>1</th>\n",
       "      <td>004s3t0ONYlzxII9PLgU6z</td>\n",
       "      <td>I Feel Alive</td>\n",
       "      <td>Steady Rollin</td>\n",
       "      <td>The trees, are singing in the wind The sky blu...</td>\n",
       "      <td>28</td>\n",
       "      <td>3z04Lb9Dsilqw68SHt6jLB</td>\n",
       "      <td>Love &amp; Loss</td>\n",
       "      <td>2017-11-21</td>\n",
       "      <td>Hard Rock Workout</td>\n",
       "      <td>3YouF0u7waJnolytf9JCXf</td>\n",
       "      <td>...</td>\n",
       "      <td>-4.739</td>\n",
       "      <td>1</td>\n",
       "      <td>0.0442</td>\n",
       "      <td>0.01170</td>\n",
       "      <td>0.00994</td>\n",
       "      <td>0.3470</td>\n",
       "      <td>0.404</td>\n",
       "      <td>135.225</td>\n",
       "      <td>373512</td>\n",
       "      <td>en</td>\n",
       "    </tr>\n",
       "    <tr>\n",
       "      <th>2</th>\n",
       "      <td>00chLpzhgVjxs1zKC9UScL</td>\n",
       "      <td>Poison</td>\n",
       "      <td>Bell Biv DeVoe</td>\n",
       "      <td>NA Yeah, Spyderman and Freeze in full effect U...</td>\n",
       "      <td>0</td>\n",
       "      <td>6oZ6brjB8x3GoeSYdwJdPc</td>\n",
       "      <td>Gold</td>\n",
       "      <td>2005-01-01</td>\n",
       "      <td>Back in the day - R&amp;B, New Jack Swing, Swingbe...</td>\n",
       "      <td>3a9y4eeCJRmG9p4YKfqYIx</td>\n",
       "      <td>...</td>\n",
       "      <td>-7.504</td>\n",
       "      <td>0</td>\n",
       "      <td>0.2160</td>\n",
       "      <td>0.00432</td>\n",
       "      <td>0.00723</td>\n",
       "      <td>0.4890</td>\n",
       "      <td>0.650</td>\n",
       "      <td>111.904</td>\n",
       "      <td>262467</td>\n",
       "      <td>en</td>\n",
       "    </tr>\n",
       "    <tr>\n",
       "      <th>3</th>\n",
       "      <td>00cqd6ZsSkLZqGMlQCR0Zo</td>\n",
       "      <td>Baby It's Cold Outside (feat. Christina Aguilera)</td>\n",
       "      <td>CeeLo Green</td>\n",
       "      <td>I really can't stay Baby it's cold outside I'v...</td>\n",
       "      <td>41</td>\n",
       "      <td>3ssspRe42CXkhPxdc12xcp</td>\n",
       "      <td>CeeLo's Magic Moment</td>\n",
       "      <td>2012-10-29</td>\n",
       "      <td>Christmas Soul</td>\n",
       "      <td>6FZYc2BvF7tColxO8PBShV</td>\n",
       "      <td>...</td>\n",
       "      <td>-5.819</td>\n",
       "      <td>0</td>\n",
       "      <td>0.0341</td>\n",
       "      <td>0.68900</td>\n",
       "      <td>0.00000</td>\n",
       "      <td>0.0664</td>\n",
       "      <td>0.405</td>\n",
       "      <td>118.593</td>\n",
       "      <td>243067</td>\n",
       "      <td>en</td>\n",
       "    </tr>\n",
       "    <tr>\n",
       "      <th>4</th>\n",
       "      <td>00emjlCv9azBN0fzuuyLqy</td>\n",
       "      <td>Dumb Litty</td>\n",
       "      <td>KARD</td>\n",
       "      <td>Get up out of my business You don't keep me fr...</td>\n",
       "      <td>65</td>\n",
       "      <td>7h5X3xhh3peIK9Y0qI5hbK</td>\n",
       "      <td>KARD 2nd Digital Single ‘Dumb Litty’</td>\n",
       "      <td>2019-09-22</td>\n",
       "      <td>K-Party Dance Mix</td>\n",
       "      <td>37i9dQZF1DX4RDXswvP6Mj</td>\n",
       "      <td>...</td>\n",
       "      <td>-1.993</td>\n",
       "      <td>1</td>\n",
       "      <td>0.0409</td>\n",
       "      <td>0.03700</td>\n",
       "      <td>0.00000</td>\n",
       "      <td>0.1380</td>\n",
       "      <td>0.240</td>\n",
       "      <td>130.018</td>\n",
       "      <td>193160</td>\n",
       "      <td>en</td>\n",
       "    </tr>\n",
       "  </tbody>\n",
       "</table>\n",
       "<p>5 rows × 25 columns</p>\n",
       "</div>"
      ],
      "text/plain": [
       "                 track_id                                         track_name  \\\n",
       "0  0017A6SJgTbfQVU2EtsPNo                                           Pangarap   \n",
       "1  004s3t0ONYlzxII9PLgU6z                                       I Feel Alive   \n",
       "2  00chLpzhgVjxs1zKC9UScL                                             Poison   \n",
       "3  00cqd6ZsSkLZqGMlQCR0Zo  Baby It's Cold Outside (feat. Christina Aguilera)   \n",
       "4  00emjlCv9azBN0fzuuyLqy                                         Dumb Litty   \n",
       "\n",
       "      track_artist                                             lyrics  \\\n",
       "0  Barbie's Cradle  Minsan pa Nang ako'y napalingon Hindi ko alam ...   \n",
       "1    Steady Rollin  The trees, are singing in the wind The sky blu...   \n",
       "2   Bell Biv DeVoe  NA Yeah, Spyderman and Freeze in full effect U...   \n",
       "3      CeeLo Green  I really can't stay Baby it's cold outside I'v...   \n",
       "4             KARD  Get up out of my business You don't keep me fr...   \n",
       "\n",
       "   track_popularity          track_album_id  \\\n",
       "0                41  1srJQ0njEQgd8w4XSqI4JQ   \n",
       "1                28  3z04Lb9Dsilqw68SHt6jLB   \n",
       "2                 0  6oZ6brjB8x3GoeSYdwJdPc   \n",
       "3                41  3ssspRe42CXkhPxdc12xcp   \n",
       "4                65  7h5X3xhh3peIK9Y0qI5hbK   \n",
       "\n",
       "                       track_album_name track_album_release_date  \\\n",
       "0                                  Trip               2001-01-01   \n",
       "1                           Love & Loss               2017-11-21   \n",
       "2                                  Gold               2005-01-01   \n",
       "3                  CeeLo's Magic Moment               2012-10-29   \n",
       "4  KARD 2nd Digital Single ‘Dumb Litty’               2019-09-22   \n",
       "\n",
       "                                       playlist_name             playlist_id  \\\n",
       "0                                 Pinoy Classic Rock  37i9dQZF1DWYDQ8wBxd7xt   \n",
       "1                                  Hard Rock Workout  3YouF0u7waJnolytf9JCXf   \n",
       "2  Back in the day - R&B, New Jack Swing, Swingbe...  3a9y4eeCJRmG9p4YKfqYIx   \n",
       "3                                     Christmas Soul  6FZYc2BvF7tColxO8PBShV   \n",
       "4                                  K-Party Dance Mix  37i9dQZF1DX4RDXswvP6Mj   \n",
       "\n",
       "   ... loudness mode  speechiness  acousticness  instrumentalness  liveness  \\\n",
       "0  ...  -10.068    1       0.0236       0.27900           0.01170    0.0887   \n",
       "1  ...   -4.739    1       0.0442       0.01170           0.00994    0.3470   \n",
       "2  ...   -7.504    0       0.2160       0.00432           0.00723    0.4890   \n",
       "3  ...   -5.819    0       0.0341       0.68900           0.00000    0.0664   \n",
       "4  ...   -1.993    1       0.0409       0.03700           0.00000    0.1380   \n",
       "\n",
       "   valence    tempo  duration_ms  language  \n",
       "0    0.566   97.091       235440        tl  \n",
       "1    0.404  135.225       373512        en  \n",
       "2    0.650  111.904       262467        en  \n",
       "3    0.405  118.593       243067        en  \n",
       "4    0.240  130.018       193160        en  \n",
       "\n",
       "[5 rows x 25 columns]"
      ]
     },
     "execution_count": 4,
     "metadata": {},
     "output_type": "execute_result"
    }
   ],
   "source": [
    "df_spot.head()"
   ]
  },
  {
   "cell_type": "code",
   "execution_count": 69,
   "metadata": {
    "scrolled": true
   },
   "outputs": [
    {
     "ename": "NameError",
     "evalue": "name 'df_2' is not defined",
     "output_type": "error",
     "traceback": [
      "\u001b[0;31m---------------------------------------------------------------------------\u001b[0m",
      "\u001b[0;31mNameError\u001b[0m                                 Traceback (most recent call last)",
      "\u001b[0;32m<ipython-input-69-c1afe4c5c852>\u001b[0m in \u001b[0;36m<module>\u001b[0;34m\u001b[0m\n\u001b[0;32m----> 1\u001b[0;31m \u001b[0mdf_2\u001b[0m\u001b[0;34m.\u001b[0m\u001b[0mhead\u001b[0m\u001b[0;34m(\u001b[0m\u001b[0;34m)\u001b[0m\u001b[0;34m\u001b[0m\u001b[0;34m\u001b[0m\u001b[0m\n\u001b[0m",
      "\u001b[0;31mNameError\u001b[0m: name 'df_2' is not defined"
     ]
    }
   ],
   "source": [
    "df_2.head()"
   ]
  },
  {
   "cell_type": "code",
   "execution_count": 70,
   "metadata": {
    "scrolled": true
   },
   "outputs": [
    {
     "ename": "NameError",
     "evalue": "name 'df_spot' is not defined",
     "output_type": "error",
     "traceback": [
      "\u001b[0;31m---------------------------------------------------------------------------\u001b[0m",
      "\u001b[0;31mNameError\u001b[0m                                 Traceback (most recent call last)",
      "\u001b[0;32m<ipython-input-70-3dc8f3e2f9d2>\u001b[0m in \u001b[0;36m<module>\u001b[0;34m\u001b[0m\n\u001b[0;32m----> 1\u001b[0;31m \u001b[0mdf_eng\u001b[0m \u001b[0;34m=\u001b[0m \u001b[0mdf_spot\u001b[0m\u001b[0;34m[\u001b[0m\u001b[0mdf_spot\u001b[0m\u001b[0;34m[\u001b[0m\u001b[0;34m\"language\"\u001b[0m\u001b[0;34m]\u001b[0m \u001b[0;34m==\u001b[0m \u001b[0;34m\"en\"\u001b[0m\u001b[0;34m]\u001b[0m\u001b[0;34m\u001b[0m\u001b[0;34m\u001b[0m\u001b[0m\n\u001b[0m\u001b[1;32m      2\u001b[0m \u001b[0mdf2_eng\u001b[0m \u001b[0;34m=\u001b[0m \u001b[0mdf_2\u001b[0m\u001b[0;34m[\u001b[0m\u001b[0mdf_2\u001b[0m\u001b[0;34m[\u001b[0m\u001b[0;34m\"Idiom\"\u001b[0m\u001b[0;34m]\u001b[0m \u001b[0;34m==\u001b[0m \u001b[0;34m\"ENGLISH\"\u001b[0m\u001b[0;34m]\u001b[0m\u001b[0;34m\u001b[0m\u001b[0;34m\u001b[0m\u001b[0m\n",
      "\u001b[0;31mNameError\u001b[0m: name 'df_spot' is not defined"
     ]
    }
   ],
   "source": [
    "df_eng = df_spot[df_spot[\"language\"] == \"en\"]\n",
    "df2_eng = df_2[df_2[\"Idiom\"] == \"ENGLISH\"]"
   ]
  },
  {
   "cell_type": "code",
   "execution_count": 71,
   "metadata": {},
   "outputs": [
    {
     "data": {
      "text/plain": [
       "124230"
      ]
     },
     "execution_count": 71,
     "metadata": {},
     "output_type": "execute_result"
    }
   ],
   "source": [
    "len(df2_eng)"
   ]
  },
  {
   "cell_type": "code",
   "execution_count": 8,
   "metadata": {},
   "outputs": [],
   "source": [
    "#df_end_song_genre = df_eng.\n",
    "df_eng = df_eng.loc[:, [\"lyrics\", \"playlist_genre\"]]\n",
    "df2_eng = df2_eng.loc[:, [\"Lyric\", \"Genre\"]]\n",
    "\n",
    "df_eng.rename(columns={\"playlist_genre\":\"genre\"}, inplace=True)\n",
    "df2_eng.rename(columns={\"Lyric\":\"lyrics\", \"Genre\":\"genre\"}, inplace=True)"
   ]
  },
  {
   "cell_type": "code",
   "execution_count": 108,
   "metadata": {},
   "outputs": [],
   "source": [
    "df = df_eng.append(df2_eng)\n",
    "#del df_eng\n",
    "#del df2_eng\n",
    "#del df_spot\n",
    "#del df_2"
   ]
  },
  {
   "cell_type": "code",
   "execution_count": 109,
   "metadata": {
    "scrolled": true
   },
   "outputs": [
    {
     "name": "stdout",
     "output_type": "stream",
     "text": [
      "(139635, 2)\n",
      "lyrics    99834\n",
      "genre        12\n",
      "dtype: int64\n"
     ]
    }
   ],
   "source": [
    "print(df.shape)\n",
    "print(df.nunique())"
   ]
  },
  {
   "cell_type": "code",
   "execution_count": 110,
   "metadata": {},
   "outputs": [
    {
     "name": "stdout",
     "output_type": "stream",
     "text": [
      "lyrics    99777\n",
      "genre        10\n",
      "dtype: int64\n"
     ]
    }
   ],
   "source": [
    "df[\"lyrics\"] = df[\"lyrics\"].str.lower();\n",
    "df[\"genre\"] = df[\"genre\"].str.lower();\n",
    "print(df.nunique())"
   ]
  },
  {
   "cell_type": "code",
   "execution_count": 111,
   "metadata": {
    "scrolled": true
   },
   "outputs": [
    {
     "name": "stdout",
     "output_type": "stream",
     "text": [
      "(99777, 2)\n",
      "lyrics    99777\n",
      "genre        10\n",
      "dtype: int64\n"
     ]
    }
   ],
   "source": [
    "df = df.drop_duplicates(subset=\"lyrics\")\n",
    "print(df.shape)\n",
    "print(df.nunique())"
   ]
  },
  {
   "cell_type": "code",
   "execution_count": 113,
   "metadata": {},
   "outputs": [
    {
     "data": {
      "text/plain": [
       "99776               no lyrics\n",
       "99775               play nice\n",
       "99774               beautiful\n",
       "99773            don't lyrics\n",
       "99772         improvised song\n",
       "99771        all systems down\n",
       "99770        the son. the sun\n",
       "99769       instrumental song\n",
       "99768       kick it like this\n",
       "99767       instrumental only\n",
       "99766       without your love\n",
       "99765       (one, two, three)\n",
       "99764      who told you how?.\n",
       "99763      that beat is fire!\n",
       "99762     (instrumental song)\n",
       "99761     smooth that out now\n",
       "99760     written by jay kay.\n",
       "99759    instrumental only...\n",
       "99758    acapella, no lyrics.\n",
       "99757    (instrumental track)\n",
       "Name: lyrics, dtype: object"
      ]
     },
     "execution_count": 113,
     "metadata": {},
     "output_type": "execute_result"
    }
   ],
   "source": [
    "pd.set_option('display.max_rows', 1000)\n",
    "#pd.set_option('display.max_colwidth', 100)\n",
    "#df[df.duplicated(subset=\"lyrics\")][:1000]\n",
    "#df[df['lyrics'].str.contains(\"mujer\")]\n",
    "\n",
    "#Controllo testi particolarmente corti o lunghi\n",
    "#Testi corti: molti incompleti, alcuni sono solo indicazione del fatto che la traccia è strumentale\n",
    "\n",
    "df_sorted = df\n",
    "df_sorted.index = df['lyrics'].str.len()\n",
    "df_sorted = df_sorted.sort_index(ascending=False).reset_index(drop=True)\n",
    "df_sorted[\"lyrics\"].sort_index(ascending=False)[:20]"
   ]
  },
  {
   "cell_type": "code",
   "execution_count": 117,
   "metadata": {
    "scrolled": false
   },
   "outputs": [
    {
     "data": {
      "text/plain": [
       "0    e|-----------------------------------------------------------------------|. b|--------------10-1...\n",
       "1    e-------5-7-----7-|-8-----8-2-----2-|-0---------0-----|-----------------|. b-----5-----5-----|--...\n",
       "2    notation legend.-. / = slide. = palm mute. b = bend to note («=half, f=full, f«=one & a half, et...\n",
       "3    words and music by f.iommi, t.butler, w.ward, j.osbourn. transcribed by andy aledort. d5 e5. x 5...\n",
       "4    na workin' on a weekend like usual way off in the deep end like usual niggas swear they passed u...\n",
       "5    it's funny, the shit i put on this song ain't gon' sound nothin' like the shit we was just doin'...\n",
       "6    yeah i'm home now, it's over now, so... yeah she got a thing for chanel vintage that dropped bef...\n",
       "7    na astro, yeah sun is down, freezin' cold that's how we already know, winter's here my dawg woul...\n",
       "8    wheezy outta here hot, hot, hot, hot hot, hot, hot, hot hot, hot, hot, hot hot, hot, hot, hot ev...\n",
       "9    yo, sing this shit, are y'all fuckin' dumb? eternal atake gotta shoot two at her (yeah) gotta sh...\n",
       "Name: lyrics, dtype: object"
      ]
     },
     "execution_count": 117,
     "metadata": {},
     "output_type": "execute_result"
    }
   ],
   "source": [
    "#I testi molto lunghi sembrano per la maggior parte a posto, ma alcuni per esempio indicano spartiti musicali per\n",
    "#la maggior parte\n",
    "\n",
    "#Mostrandone di più si nota anche come alcuni abbiano delle annotazioni nel testo, ad esempio \"[laughs]\" \n",
    "#per indicare che il cantante sta ridendo, oppure (feat. -elenco nomi-) -> questi pattern sono \n",
    "#intercettabili tramite regex, ma ho rilevato anche altre irregolarità più difficili da rintracciare\n",
    "\n",
    "#pattern \"intro -qualsiasi cosa- .\"\n",
    "\n",
    "#In genrale gli elementi fra parentesi quadre sembrano note aggiuntive, quelli fra tonde possono essere però \n",
    "#voci in sottofondo\n",
    "\n",
    "#Molti carattari numerici o non alfabetici\n",
    "df_sorted[\"lyrics\"].sort_index(ascending=True)[:10]"
   ]
  },
  {
   "cell_type": "code",
   "execution_count": 118,
   "metadata": {},
   "outputs": [],
   "source": [
    "del df_sorted"
   ]
  },
  {
   "cell_type": "code",
   "execution_count": 149,
   "metadata": {
    "scrolled": true
   },
   "outputs": [
    {
     "data": {
      "text/plain": [
       "count    99777.000000\n",
       "mean      1511.793199\n",
       "std       1111.413659\n",
       "min          9.000000\n",
       "25%        868.000000\n",
       "50%       1241.000000\n",
       "75%       1815.000000\n",
       "max      64047.000000\n",
       "Name: lyrics, dtype: float64"
      ]
     },
     "execution_count": 149,
     "metadata": {},
     "output_type": "execute_result"
    }
   ],
   "source": [
    "#Diamo quindi un'occhiata alle lunghezze, per vedere se si può scremare \n",
    "#facilmente parte del dataset rimanendo nei valori medi\n",
    "\n",
    "len = df[\"lyrics\"].str.len()\n",
    "len.describe()\n",
    "\n",
    "#Vediamo come prevedibile una enorme deviazione e differenza fra i testi più corti e quelli più lunghi"
   ]
  },
  {
   "cell_type": "code",
   "execution_count": 150,
   "metadata": {},
   "outputs": [
    {
     "data": {
      "text/plain": [
       "(1241.0, 3438.199999999997)"
      ]
     },
     "execution_count": 150,
     "metadata": {},
     "output_type": "execute_result"
    }
   ],
   "source": [
    "#Realisticamente, i testi sembrano essere fra i 1000 e 3000 caratteri\n",
    "np.quantile(lengths, 0.5), np.quantile(lengths, 0.95)"
   ]
  },
  {
   "cell_type": "code",
   "execution_count": 152,
   "metadata": {
    "scrolled": true
   },
   "outputs": [
    {
     "data": {
      "image/png": "[encoded data removed]",
      "text/plain": [
       "<Figure size 1080x360 with 2 Axes>"
      ]
     },
     "metadata": {
      "needs_background": "light"
     },
     "output_type": "display_data"
    }
   ],
   "source": [
    "plt.figure(figsize=(15,5))\n",
    "\n",
    "# Visualizziamo i dati (prolly elimina primo grafico)\n",
    "plt.subplot(121)\n",
    "plt.title(\"Lunghezza testi\")\n",
    "plt.xlabel(\"lyrics length\")\n",
    "plt.ylabel(\"# songs (log scale)\")\n",
    "len.hist(bins=85, log=True);\n",
    "\n",
    "plt.subplot(122)\n",
    "len.plot.box(vert=False);"
   ]
  },
  {
   "cell_type": "code",
   "execution_count": 153,
   "metadata": {},
   "outputs": [],
   "source": [
    "#NOTA: DOPO AVER SCREMATO CONTROLLA DISTRIBUZIONE GENERI"
   ]
  },
  {
   "cell_type": "raw",
   "metadata": {},
   "source": [
    "#Eliminiamo canzoni più corte di 1000 caratteri e più lunghe di 3500\n",
    "keep = len.between(1000, 3500, inclusive = True)\n",
    "#df = df[keep]\n",
    "df_filtered = df[keep]\n",
    "df_filtered.head()\n",
    "df.head()"
   ]
  },
  {
   "cell_type": "code",
   "execution_count": 146,
   "metadata": {},
   "outputs": [
    {
     "data": {
      "text/html": [
       "<div>\n",
       "<style scoped>\n",
       "    .dataframe tbody tr th:only-of-type {\n",
       "        vertical-align: middle;\n",
       "    }\n",
       "\n",
       "    .dataframe tbody tr th {\n",
       "        vertical-align: top;\n",
       "    }\n",
       "\n",
       "    .dataframe thead th {\n",
       "        text-align: right;\n",
       "    }\n",
       "</style>\n",
       "<table border=\"1\" class=\"dataframe\">\n",
       "  <thead>\n",
       "    <tr style=\"text-align: right;\">\n",
       "      <th></th>\n",
       "      <th>lyrics</th>\n",
       "      <th>genre</th>\n",
       "    </tr>\n",
       "    <tr>\n",
       "      <th>lyrics</th>\n",
       "      <th></th>\n",
       "      <th></th>\n",
       "    </tr>\n",
       "  </thead>\n",
       "  <tbody>\n",
       "    <tr>\n",
       "      <th>2287</th>\n",
       "      <td>na yeah, spyderman and freeze in full effect uh-huh you ready, ron? i'm ready you ready, biv? i'...</td>\n",
       "      <td>r&amp;b</td>\n",
       "    </tr>\n",
       "    <tr>\n",
       "      <th>2287</th>\n",
       "      <td>you got me some type of way (hmm) ain't used to feelin' this way (mmm-mmm) i do not know what to...</td>\n",
       "      <td>pop</td>\n",
       "    </tr>\n",
       "    <tr>\n",
       "      <th>2287</th>\n",
       "      <td>you! you're losing, you're losing, you're losing, you're losing your mind hey you! you're losing...</td>\n",
       "      <td>edm</td>\n",
       "    </tr>\n",
       "    <tr>\n",
       "      <th>2287</th>\n",
       "      <td>not i'm not the type to just act like i know. puttin on an angle putting on a show. speaking on ...</td>\n",
       "      <td>rock</td>\n",
       "    </tr>\n",
       "    <tr>\n",
       "      <th>2287</th>\n",
       "      <td>this is a song about spike. he is a bad ass guy. who just happens to be. a really good friend of...</td>\n",
       "      <td>rock</td>\n",
       "    </tr>\n",
       "  </tbody>\n",
       "</table>\n",
       "</div>"
      ],
      "text/plain": [
       "                                                                                                     lyrics  \\\n",
       "lyrics                                                                                                        \n",
       "2287    na yeah, spyderman and freeze in full effect uh-huh you ready, ron? i'm ready you ready, biv? i'...   \n",
       "2287    you got me some type of way (hmm) ain't used to feelin' this way (mmm-mmm) i do not know what to...   \n",
       "2287    you! you're losing, you're losing, you're losing, you're losing your mind hey you! you're losing...   \n",
       "2287    not i'm not the type to just act like i know. puttin on an angle putting on a show. speaking on ...   \n",
       "2287    this is a song about spike. he is a bad ass guy. who just happens to be. a really good friend of...   \n",
       "\n",
       "       genre  \n",
       "lyrics        \n",
       "2287     r&b  \n",
       "2287     pop  \n",
       "2287     edm  \n",
       "2287    rock  \n",
       "2287    rock  "
      ]
     },
     "execution_count": 146,
     "metadata": {},
     "output_type": "execute_result"
    }
   ],
   "source": [
    "len = df_filtered[\"lyrics\"].str.len()\n",
    "len.describe()"
   ]
  },
  {
   "cell_type": "code",
   "execution_count": 108,
   "metadata": {},
   "outputs": [
    {
     "data": {
      "text/plain": [
       "pop      3739\n",
       "rock     3388\n",
       "r&b      3161\n",
       "rap      2502\n",
       "edm      1758\n",
       "latin     857\n",
       "Name: playlist_genre, dtype: int64"
      ]
     },
     "execution_count": 108,
     "metadata": {},
     "output_type": "execute_result"
    }
   ],
   "source": [
    "df_eng['playlist_genre'].value_counts()"
   ]
  },
  {
   "cell_type": "code",
   "execution_count": 109,
   "metadata": {},
   "outputs": [
    {
     "data": {
      "text/plain": [
       "indie poptimism              1260\n",
       "southern hip hop             1137\n",
       "neo soul                      990\n",
       "hard rock                     922\n",
       "new jack swing                880\n",
       "urban contemporary            878\n",
       "classic rock                  873\n",
       "post-teen pop                 873\n",
       "electropop                    835\n",
       "permanent wave                828\n",
       "dance pop                     771\n",
       "album rock                    765\n",
       "gangster rap                  667\n",
       "progressive electro house     566\n",
       "pop edm                       524\n",
       "hip hop                       494\n",
       "hip pop                       413\n",
       "electro house                 400\n",
       "latin hip hop                 364\n",
       "tropical                      306\n",
       "big room                      268\n",
       "trap                          204\n",
       "latin pop                     177\n",
       "reggaeton                      10\n",
       "Name: playlist_subgenre, dtype: int64"
      ]
     },
     "execution_count": 109,
     "metadata": {},
     "output_type": "execute_result"
    }
   ],
   "source": [
    "df_eng['playlist_subgenre'].value_counts()"
   ]
  },
  {
   "cell_type": "code",
   "execution_count": 110,
   "metadata": {},
   "outputs": [],
   "source": [
    "#usa coutvectorizer e guarda i termini meno comuni: ce ne sono alcuni con caratteri orientali\n",
    "\n",
    "\n",
    "#Quindi di seguito pulisco"
   ]
  },
  {
   "cell_type": "code",
   "execution_count": 111,
   "metadata": {},
   "outputs": [],
   "source": [
    "import re\n",
    "regex_keep = re.compile('[^a-zA-Z ]')\n",
    "\n",
    "def clean_text(text):\n",
    "    return regex_keep.sub('', text)\n",
    "\n",
    "df_eng[\"lyrics\"] = df_eng[\"lyrics\"].apply(lambda x: clean_text(x));"
   ]
  },
  {
   "cell_type": "code",
   "execution_count": 112,
   "metadata": {},
   "outputs": [],
   "source": [
    "Gx_t, Gx_v, Gy_t, Gy_v = train_test_split(df_eng['lyrics'], df_eng['playlist_genre'], random_state=42, test_size=1/3)"
   ]
  },
  {
   "cell_type": "code",
   "execution_count": 113,
   "metadata": {},
   "outputs": [],
   "source": [
    "#from https://stackoverflow.com/questions/16078015/list-the-words-in-a-vocabulary-according-to-occurrence-in-a-text-corpus-with-sc\n",
    "def get_popular_words(vect, vect_fit):\n",
    "    sum_words = cv_fit.sum(axis=0)\n",
    "    words_freq = [(word, sum_words[0, idx]) for word, idx in cv.vocabulary_.items()]\n",
    "    return sorted(words_freq, key = lambda x: x[1], reverse=True)"
   ]
  },
  {
   "cell_type": "code",
   "execution_count": 114,
   "metadata": {},
   "outputs": [
    {
     "data": {
      "text/plain": [
       "[('im', 49845),\n",
       " ('dont', 34542),\n",
       " ('like', 32885),\n",
       " ('know', 30252),\n",
       " ('love', 30073),\n",
       " ('yeah', 29572),\n",
       " ('oh', 27151),\n",
       " ('got', 24652),\n",
       " ('get', 21128),\n",
       " ('go', 18133)]"
      ]
     },
     "execution_count": 114,
     "metadata": {},
     "output_type": "execute_result"
    }
   ],
   "source": [
    "cv = CountVectorizer(stop_words=nltk.corpus.stopwords.words(\"english\"))\n",
    "cv_fit = cv.fit_transform(Gx_t)\n",
    "get_popular_words(cv, cv_fit)[:10]"
   ]
  },
  {
   "cell_type": "code",
   "execution_count": 115,
   "metadata": {},
   "outputs": [
    {
     "data": {
      "text/plain": [
       "[('oh oh', 8193),\n",
       " ('yeah yeah', 6516),\n",
       " ('dont know', 4002),\n",
       " ('love love', 3142),\n",
       " ('dont wanna', 2761),\n",
       " ('let go', 2732),\n",
       " ('na na', 2685),\n",
       " ('la la', 2650),\n",
       " ('im gonna', 2238),\n",
       " ('ooh ooh', 2153)]"
      ]
     },
     "execution_count": 115,
     "metadata": {},
     "output_type": "execute_result"
    }
   ],
   "source": [
    "#Considero n-gram\n",
    "\n",
    "...\n",
    "\n",
    "#Anche con 3-gram, la maggior parte sono ripetizioni\n",
    "#considereremo\n",
    "cv = CountVectorizer(stop_words=nltk.corpus.stopwords.words(\"english\"), ngram_range=(2,2))\n",
    "cv_fit = cv.fit_transform(Gx_t)\n",
    "get_popular_words(cv, cv_fit)[:10]"
   ]
  },
  {
   "cell_type": "code",
   "execution_count": 116,
   "metadata": {},
   "outputs": [],
   "source": [
    "#Potresti provare anche Perceptron"
   ]
  },
  {
   "cell_type": "code",
   "execution_count": 183,
   "metadata": {},
   "outputs": [],
   "source": [
    "from nltk import stem, word_tokenize\n",
    "stemmer = stem.PorterStemmer()\n",
    "def tokenize_stem(words):\n",
    "    words.lower()\n",
    "    return [stemmer.stem(w) for w in word_tokenize(words) if w not in stop_words]\n",
    "def tokenize(words):\n",
    "    words.lower()\n",
    "    return [w for w in word_tokenize(words) if w not in stop_words]"
   ]
  },
  {
   "cell_type": "code",
   "execution_count": 184,
   "metadata": {},
   "outputs": [
    {
     "data": {
      "text/plain": [
       "0.5076923076923077"
      ]
     },
     "execution_count": 184,
     "metadata": {},
     "output_type": "execute_result"
    }
   ],
   "source": [
    "from sklearn.pipeline import Pipeline\n",
    "#Prepara grid\n",
    "stop_words = nltk.corpus.stopwords.words(\"english\")\n",
    "\n",
    "grid = {\n",
    "    \"model__C\" : [.1, .5, 1, 3],\n",
    "    \"tokenizer__tokenizer\" : [None, tokenize_stem],\n",
    "    \"tokenizer__min_df\" : [10, 30, 50, 100],\n",
    "    \"model__penalty\": [\"l1\", \"l2\"],\n",
    "    \"model__class_weight\": [\"balanced\", None]\n",
    "}\n",
    "\n",
    "#Prepara pipeline\n",
    "logreg = Pipeline([\n",
    "    (\"tokenizer\", TfidfVectorizer(tokenizer = tokenize, min_df=50)),\n",
    "    (\"model\", LogisticRegression(solver = \"saga\", random_state = 12, C=.5, penalty=\"l2\" , n_jobs=-1))\n",
    "])\n",
    "\n",
    "logreg.fit(Gx_t, Gy_t);\n",
    "logreg.score(Gx_v, Gy_v)\n",
    "\n",
    "#gs = GridSearchCV(logreg, param_grid=grid)\n",
    "#gs.fit(Gx_t, Gy_t)\n",
    "#gs.score(Gx_v, Gy_v)\n",
    "#cross validate"
   ]
  },
  {
   "cell_type": "code",
   "execution_count": 185,
   "metadata": {},
   "outputs": [
    {
     "data": {
      "text/plain": [
       "0.5962999026290166"
      ]
     },
     "execution_count": 185,
     "metadata": {},
     "output_type": "execute_result"
    }
   ],
   "source": [
    "logreg.score(Gx_t, Gy_t)"
   ]
  },
  {
   "cell_type": "code",
   "execution_count": 186,
   "metadata": {},
   "outputs": [],
   "source": [
    "def get_k_words(model, vectorizer, best=True, k=15):\n",
    "    \"\"\"Get the k best or worst words based on the weight assigned by a model.\n",
    "    \n",
    "       Parameters:\n",
    "         - model: the model whose coefficients have to be used\n",
    "         - vectorizer: the vectorizer used by the model whose bag of words has to be evaluated\n",
    "         - best: if True gets the k best words, otherwise the k worst\n",
    "         - k: the number of words to be returned\n",
    "         \n",
    "       Returns:\n",
    "         A pandas dataframe containing the words and their corresponding weight.\"\"\"\n",
    "    return pd.DataFrame(model.coef_, \n",
    "                        columns=vectorizer.get_feature_names()).T.sort_values(by=0, ascending=not best).head(k)"
   ]
  },
  {
   "cell_type": "code",
   "execution_count": 187,
   "metadata": {},
   "outputs": [
    {
     "data": {
      "text/plain": [
       "array(['rock', 'r&b', 'pop', 'edm', 'rap', 'latin'], dtype=object)"
      ]
     },
     "execution_count": 187,
     "metadata": {},
     "output_type": "execute_result"
    }
   ],
   "source": [
    "headers = df_eng[\"playlist_genre\"].unique()\n",
    "headers"
   ]
  },
  {
   "cell_type": "code",
   "execution_count": 188,
   "metadata": {},
   "outputs": [],
   "source": [
    "df = get_k_words(logreg.named_steps[\"model\"],\n",
    "            logreg.named_steps[\"tokenizer\"], k=10);\n",
    "df.columns = headers\n",
    "pd.set_option('display.max_rows', 500)\n",
    "#df[\"edm\"].sort_values(ascending=False)"
   ]
  },
  {
   "cell_type": "code",
   "execution_count": 189,
   "metadata": {},
   "outputs": [],
   "source": [
    "song = [\"Yeah I've been tryna call I've been on my own for long enough Maybe you can show me how to love, maybe I'm going through withdrawals You don't even have to do too much You can turn me on with just a touch, baby I look around and Sin City's cold and empty (Oh) No one's around to judge me (Oh) I can't see clearly when you're gone I said, ooh, I'm blinded by the lights No, I can't sleep until I feel your touch I said, ooh, I'm drowning in the night Oh, when I'm like this, you're the one I trust Hey, hey, hey I'm running out of time 'Cause I can see the sun light up the sky So I hit the road in overdrive, baby, oh The city's cold and empty (Oh) No one's around to judge me (Oh) I can't see clearly when you're gone I said, ooh, I'm blinded by the lights No, I can't sleep until I feel your touch I said, ooh, I'm drowning in the night Oh, when I'm like this, you're the one I trust I'm just walking by to let you know (By to let you know) I can never say it on the phone (Say it on the phone) Will never let you go this time (Ooh) I said, ooh, I'm blinded by the lights No, I can't sleep until I feel your touch Hey, hey, hey Hey, hey, hey I said, ooh, I'm blinded by the lights No, I can't sleep until I feel your touch\"];"
   ]
  },
  {
   "cell_type": "code",
   "execution_count": 190,
   "metadata": {},
   "outputs": [
    {
     "data": {
      "text/plain": [
       "array(['pop'], dtype=object)"
      ]
     },
     "execution_count": 190,
     "metadata": {},
     "output_type": "execute_result"
    }
   ],
   "source": [
    "logreg.predict(song)"
   ]
  },
  {
   "cell_type": "code",
   "execution_count": null,
   "metadata": {},
   "outputs": [],
   "source": []
  }
 ],
 "metadata": {
  "kernelspec": {
   "display_name": "Python 3",
   "language": "python",
   "name": "python3"
  },
  "language_info": {
   "codemirror_mode": {
    "name": "ipython",
    "version": 3
   },
   "file_extension": ".py",
   "mimetype": "text/x-python",
   "name": "python",
   "nbconvert_exporter": "python",
   "pygments_lexer": "ipython3",
   "version": "3.8.3"
  }
 },
 "nbformat": 4,
 "nbformat_minor": 4
}
